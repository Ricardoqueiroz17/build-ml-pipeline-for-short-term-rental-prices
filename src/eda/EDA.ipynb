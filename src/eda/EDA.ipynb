{
 "cells": [
  {
   "cell_type": "code",
   "execution_count": 1,
   "id": "ee0cb07c-d7ff-4222-83ec-28fe605ec96f",
   "metadata": {},
   "outputs": [
    {
     "name": "stdout",
     "output_type": "stream",
     "text": [
      "Python 3.8.16\n"
     ]
    }
   ],
   "source": [
    "!python --version\n"
   ]
  },
  {
   "cell_type": "code",
   "execution_count": 2,
   "id": "4bd9c0c6-dfc8-4eae-b75e-f7165816f66f",
   "metadata": {
    "editable": true,
    "slideshow": {
     "slide_type": ""
    },
    "tags": []
   },
   "outputs": [],
   "source": [
    "import wandb\n",
    "import pandas as pd\n",
    "\n"
   ]
  },
  {
   "cell_type": "code",
   "execution_count": null,
   "id": "b6183cf5-a7a7-4259-89cb-d8f01f1a964e",
   "metadata": {},
   "outputs": [],
   "source": []
  },
  {
   "cell_type": "code",
   "execution_count": 3,
   "id": "47748af3-028f-4394-8636-900ae89b9957",
   "metadata": {},
   "outputs": [
    {
     "name": "stdout",
     "output_type": "stream",
     "text": [
      "1.5.3\n"
     ]
    }
   ],
   "source": [
    "print(pd.__version__)"
   ]
  },
  {
   "cell_type": "code",
   "execution_count": 4,
   "id": "226bfe51-4d46-4301-9bb0-a2cc5d3d65a0",
   "metadata": {
    "scrolled": true
   },
   "outputs": [
    {
     "name": "stdout",
     "output_type": "stream",
     "text": [
      "0.0.dev0\n"
     ]
    }
   ],
   "source": [
    "import pandas_profiling\n",
    "print(pandas_profiling.__version__)"
   ]
  },
  {
   "cell_type": "code",
   "execution_count": 5,
   "id": "4a1dd8cb-6c0b-4d46-a17c-305b595a629a",
   "metadata": {
    "scrolled": true
   },
   "outputs": [
    {
     "name": "stderr",
     "output_type": "stream",
     "text": [
      "\u001b[34m\u001b[1mwandb\u001b[0m: W&B API key is configured. Use \u001b[1m`wandb login --relogin`\u001b[0m to force relogin\n"
     ]
    },
    {
     "data": {
      "text/html": [
       "Tracking run with wandb version 0.15.4"
      ],
      "text/plain": [
       "<IPython.core.display.HTML object>"
      ]
     },
     "metadata": {},
     "output_type": "display_data"
    },
    {
     "data": {
      "text/html": [
       "Run data is saved locally in <code>/home/ricardo/Udacity_MLops/rental-prices/src/eda/wandb/run-20230704_122009-bwu9oeir</code>"
      ],
      "text/plain": [
       "<IPython.core.display.HTML object>"
      ]
     },
     "metadata": {},
     "output_type": "display_data"
    },
    {
     "data": {
      "text/html": [
       "Syncing run <strong><a href='https://wandb.ai/ricardocqf/nyc_airbnb/runs/bwu9oeir' target=\"_blank\">robust-gorge-5</a></strong> to <a href='https://wandb.ai/ricardocqf/nyc_airbnb' target=\"_blank\">Weights & Biases</a> (<a href='https://wandb.me/run' target=\"_blank\">docs</a>)<br/>"
      ],
      "text/plain": [
       "<IPython.core.display.HTML object>"
      ]
     },
     "metadata": {},
     "output_type": "display_data"
    },
    {
     "data": {
      "text/html": [
       " View project at <a href='https://wandb.ai/ricardocqf/nyc_airbnb' target=\"_blank\">https://wandb.ai/ricardocqf/nyc_airbnb</a>"
      ],
      "text/plain": [
       "<IPython.core.display.HTML object>"
      ]
     },
     "metadata": {},
     "output_type": "display_data"
    },
    {
     "data": {
      "text/html": [
       " View run at <a href='https://wandb.ai/ricardocqf/nyc_airbnb/runs/bwu9oeir' target=\"_blank\">https://wandb.ai/ricardocqf/nyc_airbnb/runs/bwu9oeir</a>"
      ],
      "text/plain": [
       "<IPython.core.display.HTML object>"
      ]
     },
     "metadata": {},
     "output_type": "display_data"
    }
   ],
   "source": [
    "run = wandb.init(project=\"nyc_airbnb\", group=\"eda\", save_code=True)\n",
    "local_path = wandb.use_artifact(\"sample.csv:latest\").file()\n",
    "df = pd.read_csv(local_path)"
   ]
  },
  {
   "cell_type": "code",
   "execution_count": 6,
   "id": "8838a3ed-7347-404f-ad58-aa774308e398",
   "metadata": {},
   "outputs": [
    {
     "data": {
      "application/vnd.jupyter.widget-view+json": {
       "model_id": "3007632b37d042f5a5f81a4d11317215",
       "version_major": 2,
       "version_minor": 0
      },
      "text/plain": [
       "Summarize dataset:   0%|          | 0/5 [00:00<?, ?it/s]"
      ]
     },
     "metadata": {},
     "output_type": "display_data"
    },
    {
     "data": {
      "application/vnd.jupyter.widget-view+json": {
       "model_id": "ec9c9530c61f43b8b362018400199e79",
       "version_major": 2,
       "version_minor": 0
      },
      "text/plain": [
       "Generate report structure:   0%|          | 0/1 [00:00<?, ?it/s]"
      ]
     },
     "metadata": {},
     "output_type": "display_data"
    },
    {
     "data": {
      "application/vnd.jupyter.widget-view+json": {
       "model_id": "",
       "version_major": 2,
       "version_minor": 0
      },
      "text/plain": [
       "Render widgets:   0%|          | 0/1 [00:00<?, ?it/s]"
      ]
     },
     "metadata": {},
     "output_type": "display_data"
    },
    {
     "data": {
      "text/html": [
       "<div>\n",
       "<style scoped>\n",
       "    .dataframe tbody tr th:only-of-type {\n",
       "        vertical-align: middle;\n",
       "    }\n",
       "\n",
       "    .dataframe tbody tr th {\n",
       "        vertical-align: top;\n",
       "    }\n",
       "\n",
       "    .dataframe thead th {\n",
       "        text-align: right;\n",
       "    }\n",
       "</style>\n",
       "<table border=\"1\" class=\"dataframe\">\n",
       "  <thead>\n",
       "    <tr style=\"text-align: right;\">\n",
       "      <th></th>\n",
       "      <th>id</th>\n",
       "      <th>name</th>\n",
       "      <th>host_id</th>\n",
       "      <th>host_name</th>\n",
       "      <th>neighbourhood_group</th>\n",
       "      <th>neighbourhood</th>\n",
       "      <th>latitude</th>\n",
       "      <th>longitude</th>\n",
       "      <th>room_type</th>\n",
       "      <th>price</th>\n",
       "      <th>minimum_nights</th>\n",
       "      <th>number_of_reviews</th>\n",
       "      <th>last_review</th>\n",
       "      <th>reviews_per_month</th>\n",
       "      <th>calculated_host_listings_count</th>\n",
       "      <th>availability_365</th>\n",
       "    </tr>\n",
       "  </thead>\n",
       "  <tbody>\n",
       "    <tr>\n",
       "      <th>19990</th>\n",
       "      <td>5192459</td>\n",
       "      <td>Quiet Room in 4BR UWS Brownstone</td>\n",
       "      <td>10677483</td>\n",
       "      <td>Greg</td>\n",
       "      <td>Manhattan</td>\n",
       "      <td>Upper West Side</td>\n",
       "      <td>40.80173</td>\n",
       "      <td>-73.96625</td>\n",
       "      <td>Private room</td>\n",
       "      <td>70</td>\n",
       "      <td>1</td>\n",
       "      <td>0</td>\n",
       "      <td>NaN</td>\n",
       "      <td>NaN</td>\n",
       "      <td>1</td>\n",
       "      <td>0</td>\n",
       "    </tr>\n",
       "    <tr>\n",
       "      <th>19991</th>\n",
       "      <td>1327940</td>\n",
       "      <td>Huge Gorgeous Park View Apartment!</td>\n",
       "      <td>3290436</td>\n",
       "      <td>Hadar</td>\n",
       "      <td>Brooklyn</td>\n",
       "      <td>Flatbush</td>\n",
       "      <td>40.65335</td>\n",
       "      <td>-73.96257</td>\n",
       "      <td>Entire home/apt</td>\n",
       "      <td>120</td>\n",
       "      <td>3</td>\n",
       "      <td>13</td>\n",
       "      <td>2016-08-27</td>\n",
       "      <td>0.28</td>\n",
       "      <td>2</td>\n",
       "      <td>327</td>\n",
       "    </tr>\n",
       "    <tr>\n",
       "      <th>19992</th>\n",
       "      <td>23612681</td>\n",
       "      <td>Shared Room 1 Stop from Manhattan on the F Train</td>\n",
       "      <td>55724558</td>\n",
       "      <td>Taylor</td>\n",
       "      <td>Queens</td>\n",
       "      <td>Long Island City</td>\n",
       "      <td>40.76006</td>\n",
       "      <td>-73.94080</td>\n",
       "      <td>Private room</td>\n",
       "      <td>55</td>\n",
       "      <td>4</td>\n",
       "      <td>2</td>\n",
       "      <td>2019-06-01</td>\n",
       "      <td>0.65</td>\n",
       "      <td>5</td>\n",
       "      <td>89</td>\n",
       "    </tr>\n",
       "    <tr>\n",
       "      <th>19993</th>\n",
       "      <td>34485745</td>\n",
       "      <td>Midtown Manhattan Stunner - Private room</td>\n",
       "      <td>261632622</td>\n",
       "      <td>Royalton</td>\n",
       "      <td>Manhattan</td>\n",
       "      <td>Theater District</td>\n",
       "      <td>40.75491</td>\n",
       "      <td>-73.98507</td>\n",
       "      <td>Private room</td>\n",
       "      <td>100</td>\n",
       "      <td>1</td>\n",
       "      <td>3</td>\n",
       "      <td>2019-06-16</td>\n",
       "      <td>3.00</td>\n",
       "      <td>9</td>\n",
       "      <td>318</td>\n",
       "    </tr>\n",
       "    <tr>\n",
       "      <th>19994</th>\n",
       "      <td>25616250</td>\n",
       "      <td>Stylish, spacious, private 1BR apt in Ditmas Park</td>\n",
       "      <td>125396920</td>\n",
       "      <td>Adam</td>\n",
       "      <td>Brooklyn</td>\n",
       "      <td>Flatbush</td>\n",
       "      <td>40.64314</td>\n",
       "      <td>-73.95705</td>\n",
       "      <td>Entire home/apt</td>\n",
       "      <td>75</td>\n",
       "      <td>3</td>\n",
       "      <td>10</td>\n",
       "      <td>2019-01-03</td>\n",
       "      <td>0.84</td>\n",
       "      <td>1</td>\n",
       "      <td>0</td>\n",
       "    </tr>\n",
       "    <tr>\n",
       "      <th>19995</th>\n",
       "      <td>7094539</td>\n",
       "      <td>Tranquil haven in bubbly Brooklyn</td>\n",
       "      <td>2052211</td>\n",
       "      <td>Adriana</td>\n",
       "      <td>Brooklyn</td>\n",
       "      <td>Windsor Terrace</td>\n",
       "      <td>40.65360</td>\n",
       "      <td>-73.97546</td>\n",
       "      <td>Entire home/apt</td>\n",
       "      <td>143</td>\n",
       "      <td>14</td>\n",
       "      <td>2</td>\n",
       "      <td>2016-08-27</td>\n",
       "      <td>0.04</td>\n",
       "      <td>1</td>\n",
       "      <td>10</td>\n",
       "    </tr>\n",
       "    <tr>\n",
       "      <th>19996</th>\n",
       "      <td>4424261</td>\n",
       "      <td>Large 1 BR with backyard on UWS</td>\n",
       "      <td>3447311</td>\n",
       "      <td>Sarah</td>\n",
       "      <td>Manhattan</td>\n",
       "      <td>Upper West Side</td>\n",
       "      <td>40.80188</td>\n",
       "      <td>-73.96808</td>\n",
       "      <td>Entire home/apt</td>\n",
       "      <td>200</td>\n",
       "      <td>2</td>\n",
       "      <td>22</td>\n",
       "      <td>2019-05-21</td>\n",
       "      <td>0.50</td>\n",
       "      <td>1</td>\n",
       "      <td>0</td>\n",
       "    </tr>\n",
       "    <tr>\n",
       "      <th>19997</th>\n",
       "      <td>4545882</td>\n",
       "      <td>Amazing studio/Loft with a backyard</td>\n",
       "      <td>23569951</td>\n",
       "      <td>Kaveh</td>\n",
       "      <td>Manhattan</td>\n",
       "      <td>Upper East Side</td>\n",
       "      <td>40.78110</td>\n",
       "      <td>-73.94567</td>\n",
       "      <td>Entire home/apt</td>\n",
       "      <td>220</td>\n",
       "      <td>3</td>\n",
       "      <td>28</td>\n",
       "      <td>2019-05-23</td>\n",
       "      <td>0.50</td>\n",
       "      <td>1</td>\n",
       "      <td>293</td>\n",
       "    </tr>\n",
       "    <tr>\n",
       "      <th>19998</th>\n",
       "      <td>26518547</td>\n",
       "      <td>U2 comfortable double bed sleeps 2 guests</td>\n",
       "      <td>295128</td>\n",
       "      <td>Carol Gloria</td>\n",
       "      <td>Bronx</td>\n",
       "      <td>Clason Point</td>\n",
       "      <td>40.81225</td>\n",
       "      <td>-73.85502</td>\n",
       "      <td>Private room</td>\n",
       "      <td>80</td>\n",
       "      <td>1</td>\n",
       "      <td>4</td>\n",
       "      <td>2019-07-01</td>\n",
       "      <td>1.48</td>\n",
       "      <td>7</td>\n",
       "      <td>365</td>\n",
       "    </tr>\n",
       "    <tr>\n",
       "      <th>19999</th>\n",
       "      <td>33631782</td>\n",
       "      <td>Private Bedroom in Williamsburg Apt!</td>\n",
       "      <td>8569221</td>\n",
       "      <td>Andi</td>\n",
       "      <td>Brooklyn</td>\n",
       "      <td>Williamsburg</td>\n",
       "      <td>40.71829</td>\n",
       "      <td>-73.95819</td>\n",
       "      <td>Private room</td>\n",
       "      <td>109</td>\n",
       "      <td>3</td>\n",
       "      <td>3</td>\n",
       "      <td>2019-04-28</td>\n",
       "      <td>1.07</td>\n",
       "      <td>2</td>\n",
       "      <td>97</td>\n",
       "    </tr>\n",
       "  </tbody>\n",
       "</table>\n",
       "</div>"
      ],
      "text/plain": [
       "             id                                               name    host_id  \\\n",
       "19990   5192459                   Quiet Room in 4BR UWS Brownstone   10677483   \n",
       "19991   1327940                 Huge Gorgeous Park View Apartment!    3290436   \n",
       "19992  23612681   Shared Room 1 Stop from Manhattan on the F Train   55724558   \n",
       "19993  34485745           Midtown Manhattan Stunner - Private room  261632622   \n",
       "19994  25616250  Stylish, spacious, private 1BR apt in Ditmas Park  125396920   \n",
       "19995   7094539                  Tranquil haven in bubbly Brooklyn    2052211   \n",
       "19996   4424261                    Large 1 BR with backyard on UWS    3447311   \n",
       "19997   4545882                Amazing studio/Loft with a backyard   23569951   \n",
       "19998  26518547          U2 comfortable double bed sleeps 2 guests     295128   \n",
       "19999  33631782               Private Bedroom in Williamsburg Apt!    8569221   \n",
       "\n",
       "          host_name neighbourhood_group     neighbourhood  latitude  \\\n",
       "19990          Greg           Manhattan   Upper West Side  40.80173   \n",
       "19991         Hadar            Brooklyn          Flatbush  40.65335   \n",
       "19992        Taylor              Queens  Long Island City  40.76006   \n",
       "19993      Royalton           Manhattan  Theater District  40.75491   \n",
       "19994          Adam            Brooklyn          Flatbush  40.64314   \n",
       "19995       Adriana            Brooklyn   Windsor Terrace  40.65360   \n",
       "19996         Sarah           Manhattan   Upper West Side  40.80188   \n",
       "19997         Kaveh           Manhattan   Upper East Side  40.78110   \n",
       "19998  Carol Gloria               Bronx      Clason Point  40.81225   \n",
       "19999          Andi            Brooklyn      Williamsburg  40.71829   \n",
       "\n",
       "       longitude        room_type  price  minimum_nights  number_of_reviews  \\\n",
       "19990  -73.96625     Private room     70               1                  0   \n",
       "19991  -73.96257  Entire home/apt    120               3                 13   \n",
       "19992  -73.94080     Private room     55               4                  2   \n",
       "19993  -73.98507     Private room    100               1                  3   \n",
       "19994  -73.95705  Entire home/apt     75               3                 10   \n",
       "19995  -73.97546  Entire home/apt    143              14                  2   \n",
       "19996  -73.96808  Entire home/apt    200               2                 22   \n",
       "19997  -73.94567  Entire home/apt    220               3                 28   \n",
       "19998  -73.85502     Private room     80               1                  4   \n",
       "19999  -73.95819     Private room    109               3                  3   \n",
       "\n",
       "      last_review  reviews_per_month  calculated_host_listings_count  \\\n",
       "19990         NaN                NaN                               1   \n",
       "19991  2016-08-27               0.28                               2   \n",
       "19992  2019-06-01               0.65                               5   \n",
       "19993  2019-06-16               3.00                               9   \n",
       "19994  2019-01-03               0.84                               1   \n",
       "19995  2016-08-27               0.04                               1   \n",
       "19996  2019-05-21               0.50                               1   \n",
       "19997  2019-05-23               0.50                               1   \n",
       "19998  2019-07-01               1.48                               7   \n",
       "19999  2019-04-28               1.07                               2   \n",
       "\n",
       "       availability_365  \n",
       "19990                 0  \n",
       "19991               327  \n",
       "19992                89  \n",
       "19993               318  \n",
       "19994                 0  \n",
       "19995                10  \n",
       "19996                 0  \n",
       "19997               293  \n",
       "19998               365  \n",
       "19999                97  "
      ]
     },
     "metadata": {},
     "output_type": "display_data"
    },
    {
     "data": {
      "application/vnd.jupyter.widget-view+json": {
       "model_id": "fc90812864c742108cf0a3e980ec66d1",
       "version_major": 2,
       "version_minor": 0
      },
      "text/plain": [
       "VBox(children=(Tab(children=(Tab(children=(GridBox(children=(VBox(children=(GridspecLayout(children=(HTML(valu…"
      ]
     },
     "metadata": {},
     "output_type": "display_data"
    }
   ],
   "source": [
    "import pandas_profiling\n",
    "\n",
    "profile = pandas_profiling.ProfileReport(df)\n",
    "profile.to_widgets()"
   ]
  },
  {
   "cell_type": "code",
   "execution_count": 10,
   "id": "25ba07e1-1ce5-442e-b8da-888fa1cc423c",
   "metadata": {},
   "outputs": [
    {
     "name": "stdout",
     "output_type": "stream",
     "text": [
      "<class 'pandas.core.frame.DataFrame'>\n",
      "Int64Index: 19001 entries, 0 to 19999\n",
      "Data columns (total 16 columns):\n",
      " #   Column                          Non-Null Count  Dtype         \n",
      "---  ------                          --------------  -----         \n",
      " 0   id                              19001 non-null  int64         \n",
      " 1   name                            18994 non-null  object        \n",
      " 2   host_id                         19001 non-null  int64         \n",
      " 3   host_name                       18993 non-null  object        \n",
      " 4   neighbourhood_group             19001 non-null  object        \n",
      " 5   neighbourhood                   19001 non-null  object        \n",
      " 6   latitude                        19001 non-null  float64       \n",
      " 7   longitude                       19001 non-null  float64       \n",
      " 8   room_type                       19001 non-null  object        \n",
      " 9   price                           19001 non-null  int64         \n",
      " 10  minimum_nights                  19001 non-null  int64         \n",
      " 11  number_of_reviews               19001 non-null  int64         \n",
      " 12  last_review                     15243 non-null  datetime64[ns]\n",
      " 13  reviews_per_month               15243 non-null  float64       \n",
      " 14  calculated_host_listings_count  19001 non-null  int64         \n",
      " 15  availability_365                19001 non-null  int64         \n",
      "dtypes: datetime64[ns](1), float64(3), int64(7), object(5)\n",
      "memory usage: 2.5+ MB\n"
     ]
    }
   ],
   "source": [
    "# drop the outliers\n",
    "min_price = 10\n",
    "max_price = 350\n",
    "\n",
    "idx = df['price'].between(min_price, max_price)\n",
    "df = df[idx].copy()\n",
    "\n",
    "#Convert the last_review to datetime\n",
    "df['last_review'] = pd.to_datetime(df['last_review'])\n",
    "df.info()"
   ]
  },
  {
   "cell_type": "code",
   "execution_count": 12,
   "id": "2c77d154-ff4f-44ad-8eef-c01a9f9313bc",
   "metadata": {},
   "outputs": [
    {
     "data": {
      "text/plain": [
       "count    19001.000000\n",
       "mean       122.340456\n",
       "std         71.530346\n",
       "min         10.000000\n",
       "25%         66.000000\n",
       "50%        100.000000\n",
       "75%        160.000000\n",
       "max        350.000000\n",
       "Name: price, dtype: float64"
      ]
     },
     "execution_count": 12,
     "metadata": {},
     "output_type": "execute_result"
    }
   ],
   "source": [
    "df['price'].describe()"
   ]
  },
  {
   "cell_type": "code",
   "execution_count": 13,
   "id": "a022d743-db18-4c11-b9dc-30e38f697f4e",
   "metadata": {},
   "outputs": [
    {
     "data": {
      "text/html": [
       "Waiting for W&B process to finish... <strong style=\"color:green\">(success).</strong>"
      ],
      "text/plain": [
       "<IPython.core.display.HTML object>"
      ]
     },
     "metadata": {},
     "output_type": "display_data"
    },
    {
     "data": {
      "application/vnd.jupyter.widget-view+json": {
       "model_id": "5366c92b05c04f9e87a3a13b21fadfee",
       "version_major": 2,
       "version_minor": 0
      },
      "text/plain": [
       "VBox(children=(Label(value='0.238 MB of 0.238 MB uploaded (0.020 MB deduped)\\r'), FloatProgress(value=1.0, max…"
      ]
     },
     "metadata": {},
     "output_type": "display_data"
    },
    {
     "data": {
      "text/html": [
       " View run <strong style=\"color:#cdcd00\">robust-gorge-5</strong> at: <a href='https://wandb.ai/ricardocqf/nyc_airbnb/runs/bwu9oeir' target=\"_blank\">https://wandb.ai/ricardocqf/nyc_airbnb/runs/bwu9oeir</a><br/>Synced 7 W&B file(s), 0 media file(s), 7 artifact file(s) and 1 other file(s)"
      ],
      "text/plain": [
       "<IPython.core.display.HTML object>"
      ]
     },
     "metadata": {},
     "output_type": "display_data"
    },
    {
     "data": {
      "text/html": [
       "Find logs at: <code>./wandb/run-20230704_122009-bwu9oeir/logs</code>"
      ],
      "text/plain": [
       "<IPython.core.display.HTML object>"
      ]
     },
     "metadata": {},
     "output_type": "display_data"
    }
   ],
   "source": [
    "run.finish()"
   ]
  },
  {
   "cell_type": "code",
   "execution_count": null,
   "id": "1854ad51-0385-4e5a-9eb7-ca5f1792f99b",
   "metadata": {},
   "outputs": [],
   "source": []
  }
 ],
 "metadata": {
  "kernelspec": {
   "display_name": "Python 3 (ipykernel)",
   "language": "python",
   "name": "python3"
  },
  "language_info": {
   "codemirror_mode": {
    "name": "ipython",
    "version": 3
   },
   "file_extension": ".py",
   "mimetype": "text/x-python",
   "name": "python",
   "nbconvert_exporter": "python",
   "pygments_lexer": "ipython3",
   "version": "3.8.10"
  }
 },
 "nbformat": 4,
 "nbformat_minor": 5
}
